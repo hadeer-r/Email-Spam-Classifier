{
  "cells": [
    {
      "cell_type": "code",
      "execution_count": 40,
      "id": "279095cd-b6a4-4baf-ae1e-b3fbf9dc36c7",
      "metadata": {
        "id": "279095cd-b6a4-4baf-ae1e-b3fbf9dc36c7"
      },
      "outputs": [],
      "source": [
        "import pandas as pd\n",
        "import numpy as np\n",
        "import matplotlib.pyplot as plt\n",
        "import seaborn as sns\n",
        "import nltk\n",
        "from nltk.stem import PorterStemmer\n",
        "from nltk.corpus import stopwords\n",
        "from string import punctuation\n",
        "\n",
        "%matplotlib inline\n",
        "\n"
      ]
    },
    {
      "cell_type": "code",
      "execution_count": 41,
      "id": "fe31b966-e95c-4bec-9ba6-13b4fce1c820",
      "metadata": {
        "colab": {
          "base_uri": "https://localhost:8080/"
        },
        "id": "fe31b966-e95c-4bec-9ba6-13b4fce1c820",
        "outputId": "c0584dda-c86e-41dd-a082-07415624d738"
      },
      "outputs": [
        {
          "data": {
            "text/plain": [
              "Index(['# sent emails ', 'label', 'text', 'label_num'], dtype='object')"
            ]
          },
          "execution_count": 41,
          "metadata": {},
          "output_type": "execute_result"
        }
      ],
      "source": [
        "data=pd.read_csv(\"spam_ham_dataset(1)(1).csv\")\n",
        "data.columns"
      ]
    },
    {
      "cell_type": "code",
      "execution_count": 42,
      "id": "da57dc02-6f52-453c-8e22-af421af2f93e",
      "metadata": {
        "colab": {
          "base_uri": "https://localhost:8080/",
          "height": 300
        },
        "id": "da57dc02-6f52-453c-8e22-af421af2f93e",
        "outputId": "3b2d6b42-57ef-4c2a-9cdb-1253a6376f9e"
      },
      "outputs": [
        {
          "data": {
            "text/html": [
              "<div>\n",
              "<style scoped>\n",
              "    .dataframe tbody tr th:only-of-type {\n",
              "        vertical-align: middle;\n",
              "    }\n",
              "\n",
              "    .dataframe tbody tr th {\n",
              "        vertical-align: top;\n",
              "    }\n",
              "\n",
              "    .dataframe thead th {\n",
              "        text-align: right;\n",
              "    }\n",
              "</style>\n",
              "<table border=\"1\" class=\"dataframe\">\n",
              "  <thead>\n",
              "    <tr style=\"text-align: right;\">\n",
              "      <th></th>\n",
              "      <th># sent emails</th>\n",
              "      <th>label_num</th>\n",
              "    </tr>\n",
              "  </thead>\n",
              "  <tbody>\n",
              "    <tr>\n",
              "      <th>count</th>\n",
              "      <td>5171.000000</td>\n",
              "      <td>5171.000000</td>\n",
              "    </tr>\n",
              "    <tr>\n",
              "      <th>mean</th>\n",
              "      <td>2585.000000</td>\n",
              "      <td>0.289886</td>\n",
              "    </tr>\n",
              "    <tr>\n",
              "      <th>std</th>\n",
              "      <td>1492.883452</td>\n",
              "      <td>0.453753</td>\n",
              "    </tr>\n",
              "    <tr>\n",
              "      <th>min</th>\n",
              "      <td>0.000000</td>\n",
              "      <td>0.000000</td>\n",
              "    </tr>\n",
              "    <tr>\n",
              "      <th>25%</th>\n",
              "      <td>1292.500000</td>\n",
              "      <td>0.000000</td>\n",
              "    </tr>\n",
              "    <tr>\n",
              "      <th>50%</th>\n",
              "      <td>2585.000000</td>\n",
              "      <td>0.000000</td>\n",
              "    </tr>\n",
              "    <tr>\n",
              "      <th>75%</th>\n",
              "      <td>3877.500000</td>\n",
              "      <td>1.000000</td>\n",
              "    </tr>\n",
              "    <tr>\n",
              "      <th>max</th>\n",
              "      <td>5170.000000</td>\n",
              "      <td>1.000000</td>\n",
              "    </tr>\n",
              "  </tbody>\n",
              "</table>\n",
              "</div>"
            ],
            "text/plain": [
              "       # sent emails     label_num\n",
              "count     5171.000000  5171.000000\n",
              "mean      2585.000000     0.289886\n",
              "std       1492.883452     0.453753\n",
              "min          0.000000     0.000000\n",
              "25%       1292.500000     0.000000\n",
              "50%       2585.000000     0.000000\n",
              "75%       3877.500000     1.000000\n",
              "max       5170.000000     1.000000"
            ]
          },
          "execution_count": 42,
          "metadata": {},
          "output_type": "execute_result"
        }
      ],
      "source": [
        "data.describe()\n"
      ]
    },
    {
      "cell_type": "code",
      "execution_count": 43,
      "id": "26a5920e-19af-4136-a0b9-1eac033c0fe4",
      "metadata": {
        "colab": {
          "base_uri": "https://localhost:8080/"
        },
        "id": "26a5920e-19af-4136-a0b9-1eac033c0fe4",
        "outputId": "f7d30259-d81b-4c26-8f75-638fb42976e2"
      },
      "outputs": [
        {
          "name": "stdout",
          "output_type": "stream",
          "text": [
            "<class 'pandas.core.frame.DataFrame'>\n",
            "RangeIndex: 5171 entries, 0 to 5170\n",
            "Data columns (total 4 columns):\n",
            " #   Column          Non-Null Count  Dtype \n",
            "---  ------          --------------  ----- \n",
            " 0   # sent emails   5171 non-null   int64 \n",
            " 1   label           5171 non-null   object\n",
            " 2   text            5171 non-null   object\n",
            " 3   label_num       5171 non-null   int64 \n",
            "dtypes: int64(2), object(2)\n",
            "memory usage: 161.7+ KB\n"
          ]
        }
      ],
      "source": [
        "data.info()\n"
      ]
    },
    {
      "cell_type": "code",
      "execution_count": 44,
      "id": "d637b5f1-1d36-454c-8797-551d62a6efdc",
      "metadata": {
        "colab": {
          "base_uri": "https://localhost:8080/"
        },
        "id": "d637b5f1-1d36-454c-8797-551d62a6efdc",
        "outputId": "7e10d78e-6875-44af-81fa-75c91f6bce82"
      },
      "outputs": [
        {
          "name": "stdout",
          "output_type": "stream",
          "text": [
            "# sent emails     0\n",
            "label             0\n",
            "text              0\n",
            "label_num         0\n",
            "dtype: int64\n"
          ]
        }
      ],
      "source": [
        "print (data.isnull().sum())"
      ]
    },
    {
      "cell_type": "code",
      "execution_count": 45,
      "id": "fa56d6a0-39e9-479e-b3db-b84c3b97d22c",
      "metadata": {
        "colab": {
          "base_uri": "https://localhost:8080/"
        },
        "id": "fa56d6a0-39e9-479e-b3db-b84c3b97d22c",
        "outputId": "363a7e35-14d1-41f8-deaa-bd842a0c36f8"
      },
      "outputs": [
        {
          "data": {
            "text/plain": [
              "0"
            ]
          },
          "execution_count": 45,
          "metadata": {},
          "output_type": "execute_result"
        }
      ],
      "source": [
        "data.duplicated().sum()"
      ]
    },
    {
      "cell_type": "code",
      "execution_count": 46,
      "id": "54613e07-87f2-4fbd-ab53-95b62bc89186",
      "metadata": {
        "colab": {
          "base_uri": "https://localhost:8080/"
        },
        "id": "54613e07-87f2-4fbd-ab53-95b62bc89186",
        "outputId": "e7c380b9-864e-4960-ceb0-7a18773bc641"
      },
      "outputs": [
        {
          "data": {
            "text/plain": [
              "# sent emails                                                  5170\n",
              "label                                                          spam\n",
              "text              Subject: zero path termination in path manager...\n",
              "label_num                                                         1\n",
              "dtype: object"
            ]
          },
          "execution_count": 46,
          "metadata": {},
          "output_type": "execute_result"
        }
      ],
      "source": [
        "data.max()"
      ]
    },
    {
      "cell_type": "code",
      "execution_count": 47,
      "id": "de4dd625-ec71-4242-9bee-93bb26d63175",
      "metadata": {
        "colab": {
          "base_uri": "https://localhost:8080/",
          "height": 553
        },
        "id": "de4dd625-ec71-4242-9bee-93bb26d63175",
        "outputId": "c939d730-ffd2-407e-a58f-f9e28b4dc96e"
      },
      "outputs": [
        {
          "data": {
            "text/plain": [
              "<Axes: >"
            ]
          },
          "execution_count": 47,
          "metadata": {},
          "output_type": "execute_result"
        },
        {
          "data": {
            "image/png": "[encoded data removed]",
            "text/plain": [
              "<Figure size 640x480 with 1 Axes>"
            ]
          },
          "metadata": {},
          "output_type": "display_data"
        }
      ],
      "source": [
        "sns.boxplot(data=data['# sent emails '],palette='rainbow',orient='h')\n"
      ]
    },
    {
      "cell_type": "code",
      "execution_count": 48,
      "id": "644333d6-1fa2-41bc-a293-35314aea788e",
      "metadata": {
        "id": "644333d6-1fa2-41bc-a293-35314aea788e"
      },
      "outputs": [],
      "source": [
        "data.columns = data.columns.str.strip()\n",
        "data = data.rename(columns={'# sent emails': 'sent_emails'})"
      ]
    },
    {
      "cell_type": "code",
      "execution_count": 49,
      "id": "ec67a4b8-81b9-4fec-a4fc-fd400475ba6d",
      "metadata": {
        "colab": {
          "base_uri": "https://localhost:8080/",
          "height": 206
        },
        "id": "ec67a4b8-81b9-4fec-a4fc-fd400475ba6d",
        "outputId": "115389bc-9da4-4911-d0e4-3386a6eea1c7"
      },
      "outputs": [
        {
          "data": {
            "text/html": [
              "<div>\n",
              "<style scoped>\n",
              "    .dataframe tbody tr th:only-of-type {\n",
              "        vertical-align: middle;\n",
              "    }\n",
              "\n",
              "    .dataframe tbody tr th {\n",
              "        vertical-align: top;\n",
              "    }\n",
              "\n",
              "    .dataframe thead th {\n",
              "        text-align: right;\n",
              "    }\n",
              "</style>\n",
              "<table border=\"1\" class=\"dataframe\">\n",
              "  <thead>\n",
              "    <tr style=\"text-align: right;\">\n",
              "      <th></th>\n",
              "      <th>sent_emails</th>\n",
              "      <th>label</th>\n",
              "      <th>text</th>\n",
              "      <th>label_num</th>\n",
              "    </tr>\n",
              "  </thead>\n",
              "  <tbody>\n",
              "    <tr>\n",
              "      <th>0</th>\n",
              "      <td>605</td>\n",
              "      <td>ham</td>\n",
              "      <td>Subject: enron methanol ; meter # : 988291\\r\\n...</td>\n",
              "      <td>0</td>\n",
              "    </tr>\n",
              "    <tr>\n",
              "      <th>1</th>\n",
              "      <td>2349</td>\n",
              "      <td>ham</td>\n",
              "      <td>Subject: hpl nom for january 9 , 2001\\r\\n( see...</td>\n",
              "      <td>0</td>\n",
              "    </tr>\n",
              "    <tr>\n",
              "      <th>2</th>\n",
              "      <td>3624</td>\n",
              "      <td>ham</td>\n",
              "      <td>Subject: neon retreat\\r\\nho ho ho , we ' re ar...</td>\n",
              "      <td>0</td>\n",
              "    </tr>\n",
              "    <tr>\n",
              "      <th>3</th>\n",
              "      <td>4685</td>\n",
              "      <td>spam</td>\n",
              "      <td>Subject: photoshop , windows , office . cheap ...</td>\n",
              "      <td>1</td>\n",
              "    </tr>\n",
              "    <tr>\n",
              "      <th>4</th>\n",
              "      <td>2030</td>\n",
              "      <td>ham</td>\n",
              "      <td>Subject: re : indian springs\\r\\nthis deal is t...</td>\n",
              "      <td>0</td>\n",
              "    </tr>\n",
              "  </tbody>\n",
              "</table>\n",
              "</div>"
            ],
            "text/plain": [
              "   sent_emails label                                               text  \\\n",
              "0          605   ham  Subject: enron methanol ; meter # : 988291\\r\\n...   \n",
              "1         2349   ham  Subject: hpl nom for january 9 , 2001\\r\\n( see...   \n",
              "2         3624   ham  Subject: neon retreat\\r\\nho ho ho , we ' re ar...   \n",
              "3         4685  spam  Subject: photoshop , windows , office . cheap ...   \n",
              "4         2030   ham  Subject: re : indian springs\\r\\nthis deal is t...   \n",
              "\n",
              "   label_num  \n",
              "0          0  \n",
              "1          0  \n",
              "2          0  \n",
              "3          1  \n",
              "4          0  "
            ]
          },
          "execution_count": 49,
          "metadata": {},
          "output_type": "execute_result"
        }
      ],
      "source": [
        "data.head()"
      ]
    },
    {
      "cell_type": "code",
      "execution_count": 50,
      "id": "35a479b8-4bca-49a7-bcca-9947f833cb9a",
      "metadata": {
        "id": "35a479b8-4bca-49a7-bcca-9947f833cb9a"
      },
      "outputs": [],
      "source": [
        "data=data.drop('label',axis=1)\n"
      ]
    },
    {
      "cell_type": "markdown",
      "id": "c695e804-83de-4fb4-83b3-2f18a439acd8",
      "metadata": {
        "id": "c695e804-83de-4fb4-83b3-2f18a439acd8"
      },
      "source": [
        "- cleaning\n",
        "  1. remove punctuation\n",
        "  2. lowercase\n",
        "  3. stop word removal\n",
        "  4. tokinization\n",
        "  5. TF-IDF\n"
      ]
    },
    {
      "cell_type": "code",
      "execution_count": 51,
      "id": "154c3ace-a619-45d9-90b2-643923c5871b",
      "metadata": {
        "colab": {
          "base_uri": "https://localhost:8080/",
          "height": 406
        },
        "id": "154c3ace-a619-45d9-90b2-643923c5871b",
        "outputId": "58e18e13-a49d-4358-e817-d6c981f9f63c"
      },
      "outputs": [
        {
          "data": {
            "image/png": "[encoded data removed]",
            "text/plain": [
              "<Figure size 640x480 with 1 Axes>"
            ]
          },
          "metadata": {},
          "output_type": "display_data"
        }
      ],
      "source": [
        "plt.pie(data['label_num'].value_counts(), labels=['0','1'],autopct=\"%0.2f\")\n",
        "plt.show()"
      ]
    },
    {
      "cell_type": "code",
      "execution_count": 52,
      "id": "16137616-bb59-40bc-b4b4-f2abae889b31",
      "metadata": {
        "colab": {
          "base_uri": "https://localhost:8080/"
        },
        "id": "16137616-bb59-40bc-b4b4-f2abae889b31",
        "outputId": "a53a0681-6aec-4619-b4b0-fc48894afefa"
      },
      "outputs": [
        {
          "name": "stdout",
          "output_type": "stream",
          "text": [
            "(5171, 200)\n"
          ]
        }
      ],
      "source": [
        "from sklearn.feature_extraction.text import CountVectorizer\n",
        "\n",
        "text_data = data[\"text\"]\n",
        "\n",
        "vectorizer = CountVectorizer(max_features=200, lowercase=True, stop_words='english')\n",
        "\n",
        "encoded_text = vectorizer.fit_transform(text_data)\n",
        "\n",
        "print(encoded_text.shape)\n"
      ]
    },
    {
      "cell_type": "code",
      "execution_count": 53,
      "id": "8c8855fd-30a2-40b9-b51a-5a81c1e11965",
      "metadata": {
        "colab": {
          "base_uri": "https://localhost:8080/",
          "height": 206
        },
        "id": "8c8855fd-30a2-40b9-b51a-5a81c1e11965",
        "outputId": "cbabc6d2-48a3-4fcb-c877-15d5a7645a40"
      },
      "outputs": [
        {
          "data": {
            "text/html": [
              "<div>\n",
              "<style scoped>\n",
              "    .dataframe tbody tr th:only-of-type {\n",
              "        vertical-align: middle;\n",
              "    }\n",
              "\n",
              "    .dataframe tbody tr th {\n",
              "        vertical-align: top;\n",
              "    }\n",
              "\n",
              "    .dataframe thead th {\n",
              "        text-align: right;\n",
              "    }\n",
              "</style>\n",
              "<table border=\"1\" class=\"dataframe\">\n",
              "  <thead>\n",
              "    <tr style=\"text-align: right;\">\n",
              "      <th></th>\n",
              "      <th>sent_emails</th>\n",
              "      <th>text</th>\n",
              "      <th>label_num</th>\n",
              "    </tr>\n",
              "  </thead>\n",
              "  <tbody>\n",
              "    <tr>\n",
              "      <th>0</th>\n",
              "      <td>605</td>\n",
              "      <td>Subject: enron methanol ; meter # : 988291\\r\\n...</td>\n",
              "      <td>0</td>\n",
              "    </tr>\n",
              "    <tr>\n",
              "      <th>1</th>\n",
              "      <td>2349</td>\n",
              "      <td>Subject: hpl nom for january 9 , 2001\\r\\n( see...</td>\n",
              "      <td>0</td>\n",
              "    </tr>\n",
              "    <tr>\n",
              "      <th>2</th>\n",
              "      <td>3624</td>\n",
              "      <td>Subject: neon retreat\\r\\nho ho ho , we ' re ar...</td>\n",
              "      <td>0</td>\n",
              "    </tr>\n",
              "    <tr>\n",
              "      <th>3</th>\n",
              "      <td>4685</td>\n",
              "      <td>Subject: photoshop , windows , office . cheap ...</td>\n",
              "      <td>1</td>\n",
              "    </tr>\n",
              "    <tr>\n",
              "      <th>4</th>\n",
              "      <td>2030</td>\n",
              "      <td>Subject: re : indian springs\\r\\nthis deal is t...</td>\n",
              "      <td>0</td>\n",
              "    </tr>\n",
              "  </tbody>\n",
              "</table>\n",
              "</div>"
            ],
            "text/plain": [
              "   sent_emails                                               text  label_num\n",
              "0          605  Subject: enron methanol ; meter # : 988291\\r\\n...          0\n",
              "1         2349  Subject: hpl nom for january 9 , 2001\\r\\n( see...          0\n",
              "2         3624  Subject: neon retreat\\r\\nho ho ho , we ' re ar...          0\n",
              "3         4685  Subject: photoshop , windows , office . cheap ...          1\n",
              "4         2030  Subject: re : indian springs\\r\\nthis deal is t...          0"
            ]
          },
          "execution_count": 53,
          "metadata": {},
          "output_type": "execute_result"
        }
      ],
      "source": [
        "data.head()"
      ]
    },
    {
      "cell_type": "code",
      "execution_count": 54,
      "id": "7e060713-62d2-48d0-933a-aea1750cf331",
      "metadata": {
        "colab": {
          "base_uri": "https://localhost:8080/",
          "height": 554
        },
        "id": "7e060713-62d2-48d0-933a-aea1750cf331",
        "outputId": "70c2e4e8-60f2-4069-d11e-c5ab2108ce4f"
      },
      "outputs": [
        {
          "data": {
            "text/plain": [
              "<Axes: >"
            ]
          },
          "execution_count": 54,
          "metadata": {},
          "output_type": "execute_result"
        },
        {
          "data": {
            "image/png": "[encoded data removed]",
            "text/plain": [
              "<Figure size 640x480 with 1 Axes>"
            ]
          },
          "metadata": {},
          "output_type": "display_data"
        }
      ],
      "source": [
        "sns.boxplot(data=data['sent_emails'],palette='rainbow',orient='h')"
      ]
    },
    {
      "cell_type": "code",
      "execution_count": 55,
      "id": "51b68716-2214-40f2-bc76-9d318fed347f",
      "metadata": {
        "id": "51b68716-2214-40f2-bc76-9d318fed347f"
      },
      "outputs": [],
      "source": [
        "# !pip install scikit-learn"
      ]
    },
    {
      "cell_type": "code",
      "execution_count": 56,
      "id": "RfEa1NdWn2Dv",
      "metadata": {
        "id": "RfEa1NdWn2Dv"
      },
      "outputs": [],
      "source": [
        "X=encoded_text\n",
        "Y=data['label_num'].values"
      ]
    },
    {
      "cell_type": "code",
      "execution_count": 57,
      "id": "6ea45c55-15d6-4c33-8efc-16969532b795",
      "metadata": {
        "colab": {
          "base_uri": "https://localhost:8080/"
        },
        "id": "6ea45c55-15d6-4c33-8efc-16969532b795",
        "outputId": "183ec552-0287-4428-c5af-0a2317e132e6"
      },
      "outputs": [
        {
          "data": {
            "text/plain": [
              "(5171, 200)"
            ]
          },
          "execution_count": 57,
          "metadata": {},
          "output_type": "execute_result"
        }
      ],
      "source": [
        "X.shape"
      ]
    },
    {
      "cell_type": "code",
      "execution_count": 58,
      "id": "65f61562-24ca-4171-9c3f-4c55ce522aec",
      "metadata": {
        "colab": {
          "base_uri": "https://localhost:8080/"
        },
        "id": "65f61562-24ca-4171-9c3f-4c55ce522aec",
        "outputId": "84050924-7c7f-4e01-f85d-bcc5d34018c9"
      },
      "outputs": [
        {
          "data": {
            "text/plain": [
              "(5171,)"
            ]
          },
          "execution_count": 58,
          "metadata": {},
          "output_type": "execute_result"
        }
      ],
      "source": [
        "Y.shape"
      ]
    },
    {
      "cell_type": "code",
      "execution_count": 59,
      "id": "23c3fd61-96ee-49c9-9665-f0e76f8f3553",
      "metadata": {
        "colab": {
          "base_uri": "https://localhost:8080/"
        },
        "id": "23c3fd61-96ee-49c9-9665-f0e76f8f3553",
        "outputId": "3d6a05bc-a7c0-4d6e-f594-f804049c80db"
      },
      "outputs": [
        {
          "name": "stdout",
          "output_type": "stream",
          "text": [
            "[0 0 0 ... 0 0 1]\n"
          ]
        }
      ],
      "source": [
        "print(Y)"
      ]
    },
    {
      "cell_type": "code",
      "execution_count": 60,
      "id": "24a98833-291f-4d8f-953e-3296d447a5d3",
      "metadata": {
        "id": "24a98833-291f-4d8f-953e-3296d447a5d3"
      },
      "outputs": [],
      "source": [
        "from sklearn.model_selection import train_test_split\n",
        "\n",
        "X_train,X_test,Y_train,Y_test = train_test_split(X,Y,test_size=0.2,random_state=2)\n"
      ]
    },
    {
      "cell_type": "code",
      "execution_count": 61,
      "id": "d1953990-0a52-443d-bd8e-ed10c231b3b1",
      "metadata": {
        "colab": {
          "base_uri": "https://localhost:8080/"
        },
        "id": "d1953990-0a52-443d-bd8e-ed10c231b3b1",
        "outputId": "7f36b2a5-07af-4a9f-f888-f30440425aa0"
      },
      "outputs": [
        {
          "data": {
            "text/plain": [
              "(1035, 200)"
            ]
          },
          "execution_count": 61,
          "metadata": {},
          "output_type": "execute_result"
        }
      ],
      "source": [
        "X_test.shape"
      ]
    },
    {
      "cell_type": "code",
      "execution_count": 62,
      "id": "87aabaea-62ba-44f2-92f9-1b631e298297",
      "metadata": {
        "colab": {
          "base_uri": "https://localhost:8080/"
        },
        "id": "87aabaea-62ba-44f2-92f9-1b631e298297",
        "outputId": "cfe06f1d-4a92-4589-faba-b0218b35517c"
      },
      "outputs": [
        {
          "data": {
            "text/plain": [
              "(4136, 200)"
            ]
          },
          "execution_count": 62,
          "metadata": {},
          "output_type": "execute_result"
        }
      ],
      "source": [
        "X_train.shape\n"
      ]
    },
    {
      "cell_type": "code",
      "execution_count": 63,
      "id": "d043faec-c645-4f27-bea8-04b476fae80f",
      "metadata": {
        "colab": {
          "base_uri": "https://localhost:8080/"
        },
        "id": "d043faec-c645-4f27-bea8-04b476fae80f",
        "outputId": "495dfdbf-83f9-4934-fd88-8779ffcd24a6"
      },
      "outputs": [
        {
          "data": {
            "text/plain": [
              "(4136,)"
            ]
          },
          "execution_count": 63,
          "metadata": {},
          "output_type": "execute_result"
        }
      ],
      "source": [
        "Y_train.shape\n"
      ]
    },
    {
      "cell_type": "code",
      "execution_count": 64,
      "id": "91c666aa-8d46-4648-b5a7-c0058149767d",
      "metadata": {
        "colab": {
          "base_uri": "https://localhost:8080/"
        },
        "id": "91c666aa-8d46-4648-b5a7-c0058149767d",
        "outputId": "81cb9f68-1aab-43cf-a54e-f77ea91a7a23"
      },
      "outputs": [
        {
          "data": {
            "text/plain": [
              "(1035,)"
            ]
          },
          "execution_count": 64,
          "metadata": {},
          "output_type": "execute_result"
        }
      ],
      "source": [
        "Y_test.shape"
      ]
    },
    {
      "cell_type": "code",
      "execution_count": 65,
      "id": "a1c81fbd-06a0-453f-8ea3-7d94bf399331",
      "metadata": {
        "colab": {
          "base_uri": "https://localhost:8080/"
        },
        "id": "a1c81fbd-06a0-453f-8ea3-7d94bf399331",
        "outputId": "51d8f44b-e477-46ae-aeba-c212870dd346"
      },
      "outputs": [
        {
          "name": "stdout",
          "output_type": "stream",
          "text": [
            "Accuracy_log: 0.9555555555555556\n",
            "Accuracy_train: 0.9673597678916828\n"
          ]
        }
      ],
      "source": [
        "from sklearn.linear_model import LogisticRegression\n",
        "from sklearn.metrics import classification_report, confusion_matrix\n",
        "model_log = LogisticRegression()\n",
        "model_log.fit(X_train, Y_train)\n",
        "\n",
        "accuracy_log = model_log.score(X_test, Y_test)\n",
        "accuracy_train_lo = model_log.score(X_train, Y_train)\n",
        "print(\"Accuracy_log:\", accuracy_log)\n",
        "print(\"Accuracy_train:\", accuracy_train_lo)"
      ]
    },
    {
      "cell_type": "code",
      "execution_count": 66,
      "id": "YpVr_j7pDcj8",
      "metadata": {
        "colab": {
          "base_uri": "https://localhost:8080/"
        },
        "id": "YpVr_j7pDcj8",
        "outputId": "bf0aa2fb-4527-49a3-ebf1-d5dc0e107cc3"
      },
      "outputs": [
        {
          "data": {
            "text/plain": [
              "<1035x200 sparse matrix of type '<class 'numpy.int64'>'\n",
              "\twith 17360 stored elements in Compressed Sparse Row format>"
            ]
          },
          "execution_count": 66,
          "metadata": {},
          "output_type": "execute_result"
        }
      ],
      "source": [
        "X_test"
      ]
    },
    {
      "cell_type": "code",
      "execution_count": 67,
      "id": "s_uqkAQQDgDm",
      "metadata": {
        "colab": {
          "base_uri": "https://localhost:8080/"
        },
        "id": "s_uqkAQQDgDm",
        "outputId": "031fabde-0ebd-4991-e6c6-6c2c20270e60"
      },
      "outputs": [
        {
          "data": {
            "text/plain": [
              "array([0, 0, 0, ..., 0, 1, 0], dtype=int64)"
            ]
          },
          "execution_count": 67,
          "metadata": {},
          "output_type": "execute_result"
        }
      ],
      "source": [
        "Y_test"
      ]
    },
    {
      "cell_type": "code",
      "execution_count": 68,
      "id": "kJ9Q8nlcNtXG",
      "metadata": {
        "colab": {
          "base_uri": "https://localhost:8080/"
        },
        "id": "kJ9Q8nlcNtXG",
        "outputId": "a5748b99-8f13-4685-8075-4a5fccc64ddc"
      },
      "outputs": [
        {
          "name": "stdout",
          "output_type": "stream",
          "text": [
            "SVM Accuracy: 0.9526570048309179\n",
            "SVM Accuracy: 0.9690522243713733\n"
          ]
        }
      ],
      "source": [
        "from sklearn.svm import SVC\n",
        "# Train SVM model (replace hyperparameters as needed)\n",
        "model_svm = SVC(kernel='linear', C=1.0, random_state=42)\n",
        "model_svm.fit(X_train, Y_train)\n",
        "\n",
        "accuracy_svm = model_svm.score(X_test, Y_test)\n",
        "accuracy_train=model_svm.score(X_train,Y_train)\n",
        "print(\"SVM Accuracy:\", accuracy_svm)\n",
        "print(\"SVM Accuracy:\", accuracy_train)"
      ]
    },
    {
      "cell_type": "code",
      "execution_count": 69,
      "id": "43100874-217c-44c1-a07c-268b1e34386a",
      "metadata": {
        "colab": {
          "base_uri": "https://localhost:8080/"
        },
        "id": "43100874-217c-44c1-a07c-268b1e34386a",
        "outputId": "87145d9d-7622-4d51-c33a-894e0b665a12"
      },
      "outputs": [
        {
          "name": "stdout",
          "output_type": "stream",
          "text": [
            "Decision Tree Accuracy: 0.8299516908212561\n"
          ]
        }
      ],
      "source": [
        "from sklearn.tree import DecisionTreeClassifier\n",
        "# Train Decision Tree model (replace hyperparameters as needed)\n",
        "model_dt = DecisionTreeClassifier(max_depth=5, random_state=42)\n",
        "model_dt.fit(X_train,Y_train)\n",
        "\n",
        "accuracy_dt = model_dt.score(X_test, Y_test)\n",
        "print(\"Decision Tree Accuracy:\", accuracy_dt)"
      ]
    },
    {
      "cell_type": "code",
      "execution_count": 70,
      "id": "GM2RA7_HrE4a",
      "metadata": {
        "colab": {
          "base_uri": "https://localhost:8080/"
        },
        "id": "GM2RA7_HrE4a",
        "outputId": "d42041a7-1b7c-4d6f-b5b7-03bf5502cee3"
      },
      "outputs": [
        {
          "name": "stdout",
          "output_type": "stream",
          "text": [
            "Random Force Accuracy: 0.9594202898550724\n"
          ]
        }
      ],
      "source": [
        "from sklearn.ensemble import RandomForestClassifier\n",
        "\n",
        "\n",
        "# Create a Random Forest model\n",
        "model_rf = RandomForestClassifier(n_estimators=100, random_state=42)  \n",
        "model_rf.fit(X_train, Y_train)\n",
        "\n",
        "accuracy_rf = model_rf.score(X_test, Y_test)\n",
        "print(\"Random Force Accuracy:\", accuracy_rf)\n",
        "\n",
        "\n"
      ]
    },
    {
      "cell_type": "code",
      "execution_count": 71,
      "id": "2OwNv7hix-yO",
      "metadata": {
        "colab": {
          "base_uri": "https://localhost:8080/"
        },
        "collapsed": true,
        "id": "2OwNv7hix-yO",
        "outputId": "f40281fa-738e-40f0-9053-74e67b9fe637"
      },
      "outputs": [
        {
          "name": "stderr",
          "output_type": "stream",
          "text": [
            "c:\\Users\\hadde\\anaconda3\\Lib\\site-packages\\sklearn\\linear_model\\_logistic.py:458: ConvergenceWarning: lbfgs failed to converge (status=1):\n",
            "STOP: TOTAL NO. of ITERATIONS REACHED LIMIT.\n",
            "\n",
            "Increase the number of iterations (max_iter) or scale the data as shown in:\n",
            "    https://scikit-learn.org/stable/modules/preprocessing.html\n",
            "Please also refer to the documentation for alternative solver options:\n",
            "    https://scikit-learn.org/stable/modules/linear_model.html#logistic-regression\n",
            "  n_iter_i = _check_optimize_result(\n",
            "c:\\Users\\hadde\\anaconda3\\Lib\\site-packages\\sklearn\\linear_model\\_logistic.py:458: ConvergenceWarning: lbfgs failed to converge (status=1):\n",
            "STOP: TOTAL NO. of ITERATIONS REACHED LIMIT.\n",
            "\n",
            "Increase the number of iterations (max_iter) or scale the data as shown in:\n",
            "    https://scikit-learn.org/stable/modules/preprocessing.html\n",
            "Please also refer to the documentation for alternative solver options:\n",
            "    https://scikit-learn.org/stable/modules/linear_model.html#logistic-regression\n",
            "  n_iter_i = _check_optimize_result(\n",
            "c:\\Users\\hadde\\anaconda3\\Lib\\site-packages\\sklearn\\linear_model\\_logistic.py:458: ConvergenceWarning: lbfgs failed to converge (status=1):\n",
            "STOP: TOTAL NO. of ITERATIONS REACHED LIMIT.\n",
            "\n",
            "Increase the number of iterations (max_iter) or scale the data as shown in:\n",
            "    https://scikit-learn.org/stable/modules/preprocessing.html\n",
            "Please also refer to the documentation for alternative solver options:\n",
            "    https://scikit-learn.org/stable/modules/linear_model.html#logistic-regression\n",
            "  n_iter_i = _check_optimize_result(\n",
            "c:\\Users\\hadde\\anaconda3\\Lib\\site-packages\\sklearn\\linear_model\\_logistic.py:458: ConvergenceWarning: lbfgs failed to converge (status=1):\n",
            "STOP: TOTAL NO. of ITERATIONS REACHED LIMIT.\n",
            "\n",
            "Increase the number of iterations (max_iter) or scale the data as shown in:\n",
            "    https://scikit-learn.org/stable/modules/preprocessing.html\n",
            "Please also refer to the documentation for alternative solver options:\n",
            "    https://scikit-learn.org/stable/modules/linear_model.html#logistic-regression\n",
            "  n_iter_i = _check_optimize_result(\n",
            "c:\\Users\\hadde\\anaconda3\\Lib\\site-packages\\sklearn\\linear_model\\_logistic.py:458: ConvergenceWarning: lbfgs failed to converge (status=1):\n",
            "STOP: TOTAL NO. of ITERATIONS REACHED LIMIT.\n",
            "\n",
            "Increase the number of iterations (max_iter) or scale the data as shown in:\n",
            "    https://scikit-learn.org/stable/modules/preprocessing.html\n",
            "Please also refer to the documentation for alternative solver options:\n",
            "    https://scikit-learn.org/stable/modules/linear_model.html#logistic-regression\n",
            "  n_iter_i = _check_optimize_result(\n",
            "c:\\Users\\hadde\\anaconda3\\Lib\\site-packages\\sklearn\\linear_model\\_logistic.py:458: ConvergenceWarning: lbfgs failed to converge (status=1):\n",
            "STOP: TOTAL NO. of ITERATIONS REACHED LIMIT.\n",
            "\n",
            "Increase the number of iterations (max_iter) or scale the data as shown in:\n",
            "    https://scikit-learn.org/stable/modules/preprocessing.html\n",
            "Please also refer to the documentation for alternative solver options:\n",
            "    https://scikit-learn.org/stable/modules/linear_model.html#logistic-regression\n",
            "  n_iter_i = _check_optimize_result(\n",
            "c:\\Users\\hadde\\anaconda3\\Lib\\site-packages\\sklearn\\linear_model\\_logistic.py:458: ConvergenceWarning: lbfgs failed to converge (status=1):\n",
            "STOP: TOTAL NO. of ITERATIONS REACHED LIMIT.\n",
            "\n",
            "Increase the number of iterations (max_iter) or scale the data as shown in:\n",
            "    https://scikit-learn.org/stable/modules/preprocessing.html\n",
            "Please also refer to the documentation for alternative solver options:\n",
            "    https://scikit-learn.org/stable/modules/linear_model.html#logistic-regression\n",
            "  n_iter_i = _check_optimize_result(\n",
            "c:\\Users\\hadde\\anaconda3\\Lib\\site-packages\\sklearn\\linear_model\\_logistic.py:458: ConvergenceWarning: lbfgs failed to converge (status=1):\n",
            "STOP: TOTAL NO. of ITERATIONS REACHED LIMIT.\n",
            "\n",
            "Increase the number of iterations (max_iter) or scale the data as shown in:\n",
            "    https://scikit-learn.org/stable/modules/preprocessing.html\n",
            "Please also refer to the documentation for alternative solver options:\n",
            "    https://scikit-learn.org/stable/modules/linear_model.html#logistic-regression\n",
            "  n_iter_i = _check_optimize_result(\n",
            "c:\\Users\\hadde\\anaconda3\\Lib\\site-packages\\sklearn\\linear_model\\_logistic.py:458: ConvergenceWarning: lbfgs failed to converge (status=1):\n",
            "STOP: TOTAL NO. of ITERATIONS REACHED LIMIT.\n",
            "\n",
            "Increase the number of iterations (max_iter) or scale the data as shown in:\n",
            "    https://scikit-learn.org/stable/modules/preprocessing.html\n",
            "Please also refer to the documentation for alternative solver options:\n",
            "    https://scikit-learn.org/stable/modules/linear_model.html#logistic-regression\n",
            "  n_iter_i = _check_optimize_result(\n",
            "c:\\Users\\hadde\\anaconda3\\Lib\\site-packages\\sklearn\\linear_model\\_logistic.py:458: ConvergenceWarning: lbfgs failed to converge (status=1):\n",
            "STOP: TOTAL NO. of ITERATIONS REACHED LIMIT.\n",
            "\n",
            "Increase the number of iterations (max_iter) or scale the data as shown in:\n",
            "    https://scikit-learn.org/stable/modules/preprocessing.html\n",
            "Please also refer to the documentation for alternative solver options:\n",
            "    https://scikit-learn.org/stable/modules/linear_model.html#logistic-regression\n",
            "  n_iter_i = _check_optimize_result(\n"
          ]
        },
        {
          "name": "stdout",
          "output_type": "stream",
          "text": [
            "0.9555555555555556\n",
            "0.9487922705314009\n",
            "0.9043478260869565\n",
            "0.9439613526570049\n"
          ]
        }
      ],
      "source": [
        "from sklearn.model_selection import GridSearchCV\n",
        "from sklearn.svm import SVC\n",
        "from sklearn.ensemble import RandomForestClassifier\n",
        "from sklearn.tree import DecisionTreeClassifier\n",
        "from sklearn.metrics import accuracy_score, precision_score, recall_score, confusion_matrix\n",
        "\n",
        "# Define hyperparameter grids for each model\n",
        "param_grid_lr = {\n",
        "    'C': [0.001, 0.01, 0.1, 1, 10, 100]\n",
        "}\n",
        "param_grid_svm = {\n",
        "    'C': [0.01, 0.1, 1, 10, 100],\n",
        "    'kernel': ['linear', 'rbf']\n",
        "}\n",
        "\n",
        "param_grid_rf = {\n",
        "    'n_estimators': [10, 50, 100, 200],\n",
        "    'max_depth': [3, 5, 7, 10]\n",
        "}\n",
        "\n",
        "param_grid_dt = {\n",
        "    'max_depth': [3, 5, 7, 10],\n",
        "    'min_samples_split': [2, 5, 10]\n",
        "}\n",
        "\n",
        "# Create and train models with GridSearchCV\n",
        "model_lr = GridSearchCV(LogisticRegression(random_state=42), param_grid_lr, cv=5)\n",
        "model_lr.fit(X_train,Y_train)\n",
        "\n",
        "model_svm = GridSearchCV(SVC(random_state=42), param_grid_svm, cv=5)  # 5-fold cross-validation\n",
        "model_svm.fit(X_train, Y_train)\n",
        "\n",
        "model_rf = GridSearchCV(RandomForestClassifier(random_state=42), param_grid_rf, cv=5)\n",
        "model_rf.fit(X_train, Y_train)\n",
        "\n",
        "model_dt = GridSearchCV(DecisionTreeClassifier(random_state=42), param_grid_dt, cv=5)\n",
        "model_dt.fit(X_train,Y_train)\n",
        "\n",
        "# Get the best models and their parameters\n",
        "best_model_lr = model_lr.best_estimator_\n",
        "best_params_lr = model_lr.best_params_\n",
        "\n",
        "best_model_svm = model_svm.best_estimator_\n",
        "best_params_svm = model_svm.best_params_\n",
        "\n",
        "best_model_rf = model_rf.best_estimator_\n",
        "best_params_rf = model_rf.best_params_\n",
        "\n",
        "best_model_dt = model_dt.best_estimator_\n",
        "best_params_dt = model_dt.best_params_\n",
        "\n",
        "\n",
        "# Logistic Regression model prediction\n",
        "y_pred_lr = model_log.predict(X_test)\n",
        "print(accuracy_score(Y_test,y_pred_lr))\n",
        "\n",
        "# SVM model prediction\n",
        "y_pred_svm = model_svm.predict(X_test)\n",
        "print(accuracy_score(Y_test,y_pred_svm))\n",
        "\n",
        "# Decision Tree model prediction\n",
        "y_pred_dt = model_dt.predict(X_test)\n",
        "print(accuracy_score(Y_test,y_pred_dt))\n",
        "\n",
        "# Random Forest model prediction\n",
        "y_pred_rf = model_rf.predict(X_test)\n",
        "print(accuracy_score(Y_test,y_pred_rf))\n",
        "\n"
      ]
    },
    {
      "cell_type": "code",
      "execution_count": 72,
      "id": "Vv_dBLf2j7wd",
      "metadata": {
        "colab": {
          "base_uri": "https://localhost:8080/"
        },
        "id": "Vv_dBLf2j7wd",
        "outputId": "1ecc71dd-9de7-49b0-8465-a85ca11beef9"
      },
      "outputs": [
        {
          "name": "stdout",
          "output_type": "stream",
          "text": [
            "Logistic Regression Precision: 0.8785046728971962\n",
            "Logistic Regression Recall: 0.9757785467128027\n",
            "SVM Precision: 0.86875\n",
            "SVM Recall: 0.9619377162629758\n",
            "Decision Tree Precision: 0.7486910994764397\n",
            "Decision Tree Recall: 0.9896193771626297\n",
            "Random Forest Precision: 0.8489425981873112\n",
            "Random Forest Recall: 0.972318339100346\n"
          ]
        }
      ],
      "source": [
        "# Example for Logistic Regression model\n",
        "precision_lr = precision_score(Y_test, y_pred_lr)\n",
        "recall_lr = recall_score(Y_test, y_pred_lr)\n",
        "# Calculate precision and recall for other models (SVM, Decision Tree) similarly\n",
        "precision_svm = precision_score(Y_test, y_pred_svm)\n",
        "recall_svm = recall_score(Y_test, y_pred_svm)\n",
        "\n",
        "precision_dt = precision_score(Y_test, y_pred_dt)\n",
        "recall_dt = recall_score(Y_test, y_pred_dt)\n",
        "\n",
        "precision_rf = precision_score(Y_test, y_pred_rf)\n",
        "recall_rf = recall_score(Y_test, y_pred_rf)\n",
        "\n",
        "# Print results\n",
        "print(\"Logistic Regression Precision:\", precision_lr)\n",
        "print(\"Logistic Regression Recall:\", recall_lr)\n",
        "\n",
        "print(\"SVM Precision:\", precision_svm)\n",
        "print(\"SVM Recall:\", recall_svm)\n",
        "\n",
        "print(\"Decision Tree Precision:\", precision_dt)\n",
        "print(\"Decision Tree Recall:\", recall_dt)\n",
        "\n",
        "print(\"Random Forest Precision:\", precision_rf)\n",
        "print(\"Random Forest Recall:\", recall_rf)\n"
      ]
    },
    {
      "cell_type": "code",
      "execution_count": 73,
      "id": "_aSPLytPkOI4",
      "metadata": {
        "colab": {
          "base_uri": "https://localhost:8080/"
        },
        "id": "_aSPLytPkOI4",
        "outputId": "a10eed5c-a0af-4bd9-fa56-916389faa82b"
      },
      "outputs": [
        {
          "name": "stdout",
          "output_type": "stream",
          "text": [
            "Logistic Regression Confusion Matrix:\n",
            " [[707  39]\n",
            " [  7 282]]\n",
            "SVM Confusion Matrix:\n",
            " [[704  42]\n",
            " [ 11 278]]\n",
            "Decision Tree Confusion Matrix:\n",
            " [[650  96]\n",
            " [  3 286]]\n",
            "Random Forest Confusion Matrix:\n",
            " [[696  50]\n",
            " [  8 281]]\n"
          ]
        }
      ],
      "source": [
        "# Example for Logistic Regression model\n",
        "confusion_matrix_lr = confusion_matrix(Y_test, y_pred_lr)\n",
        "print(\"Logistic Regression Confusion Matrix:\\n\", confusion_matrix_lr)\n",
        "\n",
        "# Calculate confusion matrix for other models (SVM, Decision Tree) similarly\n",
        "confusion_matrix_svm = confusion_matrix(Y_test, y_pred_svm)\n",
        "print(\"SVM Confusion Matrix:\\n\", confusion_matrix_svm)\n",
        "\n",
        "confusion_matrix_dt = confusion_matrix(Y_test, y_pred_dt)\n",
        "print(\"Decision Tree Confusion Matrix:\\n\", confusion_matrix_dt)\n",
        "\n",
        "confusion_matrix_rf = confusion_matrix(Y_test, y_pred_rf)\n",
        "print(\"Random Forest Confusion Matrix:\\n\", confusion_matrix_rf)\n",
        "\n"
      ]
    },
    {
      "cell_type": "code",
      "execution_count": 74,
      "id": "a3de2016-0ce5-4467-9743-1723ec999977",
      "metadata": {
        "colab": {
          "base_uri": "https://localhost:8080/"
        },
        "id": "a3de2016-0ce5-4467-9743-1723ec999977",
        "outputId": "aed3ce86-ed7c-43bd-d3b4-b9650139f477"
      },
      "outputs": [
        {
          "name": "stdout",
          "output_type": "stream",
          "text": [
            "0.9555555555555556\n",
            "0.9487922705314009\n",
            "0.9043478260869565\n",
            "0.9439613526570049\n"
          ]
        }
      ],
      "source": [
        "import joblib\n",
        "joblib_file_log=\"email_classification_model_logistic\"\n",
        "joblib_file_svm=\"email_classification_model_svm\"\n",
        "joblib_file_dt=\"email_classification_model_dt\"\n",
        "joblib_file_rf=\"email_classification_model_rf\"\n",
        "joblib_file_vectorizer=\"vectorization_text\"\n",
        "joblib.dump(model_log,joblib_file_log)\n",
        "joblib.dump(model_svm,joblib_file_svm)\n",
        "joblib.dump(model_dt,joblib_file_dt)\n",
        "joblib.dump(model_rf,joblib_file_rf)\n",
        "joblib.dump(vectorizer,joblib_file_vectorizer)\n",
        "\n",
        "loaded_model_log=joblib.load(open(joblib_file_log,'rb'))\n",
        "loaded_model_svm=joblib.load(open(joblib_file_svm,'rb'))\n",
        "loaded_model_dt=joblib.load(open(joblib_file_dt,'rb'))\n",
        "loaded_model_rf=joblib.load(open(joblib_file_rf,'rb'))\n",
        "\n",
        "print(accuracy_score(Y_test,y_pred_lr))\n",
        "print(accuracy_score(Y_test,y_pred_svm))\n",
        "print(accuracy_score(Y_test,y_pred_dt))\n",
        "print(accuracy_score(Y_test,y_pred_rf))"
      ]
    }
  ],
  "metadata": {
    "colab": {
      "provenance": []
    },
    "kernelspec": {
      "display_name": "Python 3 (ipykernel)",
      "language": "python",
      "name": "python3"
    },
    "language_info": {
      "codemirror_mode": {
        "name": "ipython",
        "version": 3
      },
      "file_extension": ".py",
      "mimetype": "text/x-python",
      "name": "python",
      "nbconvert_exporter": "python",
      "pygments_lexer": "ipython3",
      "version": "3.11.7"
    }
  },
  "nbformat": 4,
  "nbformat_minor": 5
}
